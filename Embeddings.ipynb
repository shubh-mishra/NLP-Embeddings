{
  "nbformat": 4,
  "nbformat_minor": 0,
  "metadata": {
    "kernelspec": {
      "display_name": "Python 3",
      "language": "python",
      "name": "python3"
    },
    "language_info": {
      "codemirror_mode": {
        "name": "ipython",
        "version": 3
      },
      "file_extension": ".py",
      "mimetype": "text/x-python",
      "name": "python",
      "nbconvert_exporter": "python",
      "pygments_lexer": "ipython3",
      "version": "3.8.3"
    },
    "colab": {
      "name": "Embeddings.ipynb",
      "provenance": []
    },
    "accelerator": "GPU"
  },
  "cells": [
    {
      "cell_type": "code",
      "metadata": {
        "id": "TpP_My4Whqzl"
      },
      "source": [
        "import os\n",
        "import time\n",
        "import numpy as np # linear algebra\n",
        "import pandas as pd # data processing, CSV file I/O (e.g. pd.read_csv)\n",
        "from tqdm import tqdm\n",
        "import math\n",
        "from sklearn.model_selection import train_test_split\n",
        "from sklearn import metrics\n",
        "\n",
        "from keras.preprocessing.text import Tokenizer\n",
        "from keras.preprocessing.sequence import pad_sequences\n",
        "from keras.layers import Dense, Input, LSTM, Embedding, Dropout, Activation, Conv1D\n",
        "from keras.layers import Bidirectional, GlobalMaxPool1D\n",
        "from keras.models import Model\n",
        "from keras import initializers, regularizers, constraints, optimizers, layers\n",
        "from tensorflow.compat.v1.keras.layers import CuDNNGRU"
      ],
      "execution_count": 8,
      "outputs": []
    },
    {
      "cell_type": "code",
      "metadata": {
        "colab": {
          "base_uri": "https://localhost:8080/"
        },
        "id": "PXSlZATshqzq",
        "outputId": "6daef698-3dba-4974-a4f0-0d86345f26bd"
      },
      "source": [
        "train_df = pd.read_csv(\"/content/drive/MyDrive/train.csv\")\n",
        "test_df = pd.read_csv(\"/content/drive/MyDrive/test.csv\")\n",
        "print(\"Train shape : \",train_df.shape)\n",
        "print(\"Test shape : \",test_df.shape)"
      ],
      "execution_count": 10,
      "outputs": [
        {
          "output_type": "stream",
          "text": [
            "Train shape :  (1306122, 3)\n",
            "Test shape :  (375806, 2)\n"
          ],
          "name": "stdout"
        }
      ]
    },
    {
      "cell_type": "markdown",
      "metadata": {
        "id": "J8jD9ESThqzr"
      },
      "source": [
        "Next steps are as follows:\n",
        "\n",
        "Split the training dataset into train and val sample. Cross validation is a time consuming process and so let us do simple train val split.\n",
        "Fill up the missing values in the text column with 'na'\n",
        "Tokenize the text column and convert them to vector sequences\n",
        "Pad the sequence as needed - if the number of words in the text is greater than 'max_len' trunacate them to 'max_len' or if the number of words in the text is lesser than 'max_len' add zeros for remaining values."
      ]
    },
    {
      "cell_type": "code",
      "metadata": {
        "colab": {
          "base_uri": "https://localhost:8080/"
        },
        "id": "-nY064jFjs3X",
        "outputId": "86bca613-560b-4629-eef2-fae6801fed5e"
      },
      "source": [
        "from google.colab import drive\n",
        "drive.mount('/content/drive')"
      ],
      "execution_count": 1,
      "outputs": [
        {
          "output_type": "stream",
          "text": [
            "Mounted at /content/drive\n"
          ],
          "name": "stdout"
        }
      ]
    },
    {
      "cell_type": "code",
      "metadata": {
        "id": "A3okhyB7hqzs"
      },
      "source": [
        "## split to train and val\n",
        "train_df, val_df = train_test_split(train_df, test_size=0.1, random_state=2018)\n",
        "\n",
        "## some config values \n",
        "embed_size = 300 # how big is each word vector\n",
        "max_features = 50000 # how many unique words to use (i.e num rows in embedding vector)\n",
        "maxlen = 100 # max number of words in a question to use\n",
        "\n",
        "## fill up the missing values\n",
        "train_X = train_df[\"question_text\"].fillna(\"_na_\").values\n",
        "val_X = val_df[\"question_text\"].fillna(\"_na_\").values\n",
        "test_X = test_df[\"question_text\"].fillna(\"_na_\").values\n",
        "\n",
        "## Tokenize the sentences\n",
        "tokenizer = Tokenizer(num_words=max_features)\n",
        "tokenizer.fit_on_texts(list(train_X))\n",
        "train_X = tokenizer.texts_to_sequences(train_X)\n",
        "val_X = tokenizer.texts_to_sequences(val_X)\n",
        "test_X = tokenizer.texts_to_sequences(test_X)\n",
        "\n",
        "## Pad the sentences \n",
        "train_X = pad_sequences(train_X, maxlen=maxlen)\n",
        "val_X = pad_sequences(val_X, maxlen=maxlen)\n",
        "test_X = pad_sequences(test_X, maxlen=maxlen)\n",
        "\n",
        "## Get the target values\n",
        "train_y = train_df['target'].values\n",
        "val_y = val_df['target'].values"
      ],
      "execution_count": 11,
      "outputs": []
    },
    {
      "cell_type": "markdown",
      "metadata": {
        "id": "Y16atelchqzs"
      },
      "source": [
        "Without Pretrained Embeddings:\n",
        "\n",
        "Now that we are done with all the necessary preprocessing steps, we can first train a Bidirectional GRU model. We will not use any pre-trained word embeddings for this model and the embeddings will be learnt from scratch. Please check out the model summary for the details of the layers used."
      ]
    },
    {
      "cell_type": "code",
      "metadata": {
        "colab": {
          "base_uri": "https://localhost:8080/"
        },
        "id": "HofGqtB8hqzt",
        "outputId": "fa0f6892-15a0-47bd-816f-2108333c512f"
      },
      "source": [
        "inp = Input(shape=(maxlen,))\n",
        "x = Embedding(max_features, embed_size)(inp)\n",
        "x = Bidirectional(CuDNNGRU(64, return_sequences=True))(x)\n",
        "x = GlobalMaxPool1D()(x)\n",
        "x = Dense(16, activation=\"relu\")(x)\n",
        "x = Dropout(0.1)(x)\n",
        "x = Dense(1, activation=\"sigmoid\")(x)\n",
        "model = Model(inputs=inp, outputs=x)\n",
        "model.compile(loss='binary_crossentropy', optimizer='adam', metrics=['accuracy'])\n",
        "\n",
        "print(model.summary())"
      ],
      "execution_count": 12,
      "outputs": [
        {
          "output_type": "stream",
          "text": [
            "Model: \"model\"\n",
            "_________________________________________________________________\n",
            "Layer (type)                 Output Shape              Param #   \n",
            "=================================================================\n",
            "input_1 (InputLayer)         [(None, 100)]             0         \n",
            "_________________________________________________________________\n",
            "embedding (Embedding)        (None, 100, 300)          15000000  \n",
            "_________________________________________________________________\n",
            "bidirectional (Bidirectional (None, 100, 128)          140544    \n",
            "_________________________________________________________________\n",
            "global_max_pooling1d (Global (None, 128)               0         \n",
            "_________________________________________________________________\n",
            "dense (Dense)                (None, 16)                2064      \n",
            "_________________________________________________________________\n",
            "dropout (Dropout)            (None, 16)                0         \n",
            "_________________________________________________________________\n",
            "dense_1 (Dense)              (None, 1)                 17        \n",
            "=================================================================\n",
            "Total params: 15,142,625\n",
            "Trainable params: 15,142,625\n",
            "Non-trainable params: 0\n",
            "_________________________________________________________________\n",
            "None\n"
          ],
          "name": "stdout"
        }
      ]
    },
    {
      "cell_type": "markdown",
      "metadata": {
        "id": "mL0Z-dTPhqzt"
      },
      "source": [
        "Train the model using train sample and monitor the metric on the valid sample. This is just a sample model running for 2 epochs. Changing the epochs, batch_size and model parameters might give us a better model."
      ]
    },
    {
      "cell_type": "code",
      "metadata": {
        "colab": {
          "base_uri": "https://localhost:8080/"
        },
        "id": "ZH9EHX1Shqzt",
        "outputId": "54d4d191-58f9-41c5-a53a-dde2ef58cb88"
      },
      "source": [
        "## Train the model \n",
        "model.fit(train_X, train_y, batch_size=512, epochs=2, validation_data=(val_X, val_y))"
      ],
      "execution_count": null,
      "outputs": [
        {
          "output_type": "stream",
          "text": [
            "Epoch 1/2\n",
            "1726/1726 [==============================] - 384s 204ms/step - loss: nan - accuracy: 0.9347 - val_loss: nan - val_accuracy: 0.9375\n",
            "Epoch 2/2\n",
            "1726/1726 [==============================] - 347s 201ms/step - loss: nan - accuracy: 0.9379 - val_loss: nan - val_accuracy: 0.9375\n"
          ],
          "name": "stdout"
        },
        {
          "output_type": "execute_result",
          "data": {
            "text/plain": [
              "<tensorflow.python.keras.callbacks.History at 0x7f0f9171a8d0>"
            ]
          },
          "metadata": {
            "tags": []
          },
          "execution_count": 13
        }
      ]
    },
    {
      "cell_type": "markdown",
      "metadata": {
        "id": "vVL-Ro-thqzu"
      },
      "source": [
        "Now let us get the validation sample predictions and also get the best threshold for F1 score."
      ]
    },
    {
      "cell_type": "code",
      "metadata": {
        "colab": {
          "base_uri": "https://localhost:8080/"
        },
        "id": "-qnRGp7Whqzu",
        "outputId": "b467c4e3-364d-45d2-ac88-b69b9da1c393"
      },
      "source": [
        "pred_noemb_val_y = model.predict([val_X], batch_size=1024, verbose=1)\n",
        "for thresh in np.arange(0.1, 0.501, 0.01):\n",
        "    thresh = np.round(thresh, 2)\n",
        "    print(\"F1 score at threshold {0} is {1}\".format(thresh, metrics.f1_score(val_y, (pred_noemb_val_y>thresh).astype(int))))"
      ],
      "execution_count": null,
      "outputs": [
        {
          "output_type": "stream",
          "text": [
            "96/96 [==============================] - 5s 42ms/step\n",
            "F1 score at threshold 0.1 is 0.0\n",
            "F1 score at threshold 0.11 is 0.0\n",
            "F1 score at threshold 0.12 is 0.0\n",
            "F1 score at threshold 0.13 is 0.0\n",
            "F1 score at threshold 0.14 is 0.0\n",
            "F1 score at threshold 0.15 is 0.0\n",
            "F1 score at threshold 0.16 is 0.0\n",
            "F1 score at threshold 0.17 is 0.0\n",
            "F1 score at threshold 0.18 is 0.0\n",
            "F1 score at threshold 0.19 is 0.0\n",
            "F1 score at threshold 0.2 is 0.0\n",
            "F1 score at threshold 0.21 is 0.0\n",
            "F1 score at threshold 0.22 is 0.0\n",
            "F1 score at threshold 0.23 is 0.0\n",
            "F1 score at threshold 0.24 is 0.0\n",
            "F1 score at threshold 0.25 is 0.0\n",
            "F1 score at threshold 0.26 is 0.0\n",
            "F1 score at threshold 0.27 is 0.0\n",
            "F1 score at threshold 0.28 is 0.0\n",
            "F1 score at threshold 0.29 is 0.0\n",
            "F1 score at threshold 0.3 is 0.0\n",
            "F1 score at threshold 0.31 is 0.0\n",
            "F1 score at threshold 0.32 is 0.0\n",
            "F1 score at threshold 0.33 is 0.0\n",
            "F1 score at threshold 0.34 is 0.0\n",
            "F1 score at threshold 0.35 is 0.0\n",
            "F1 score at threshold 0.36 is 0.0\n",
            "F1 score at threshold 0.37 is 0.0\n",
            "F1 score at threshold 0.38 is 0.0\n",
            "F1 score at threshold 0.39 is 0.0\n",
            "F1 score at threshold 0.4 is 0.0\n",
            "F1 score at threshold 0.41 is 0.0\n",
            "F1 score at threshold 0.42 is 0.0\n",
            "F1 score at threshold 0.43 is 0.0\n",
            "F1 score at threshold 0.44 is 0.0\n",
            "F1 score at threshold 0.45 is 0.0\n",
            "F1 score at threshold 0.46 is 0.0\n",
            "F1 score at threshold 0.47 is 0.0\n",
            "F1 score at threshold 0.48 is 0.0\n",
            "F1 score at threshold 0.49 is 0.0\n",
            "F1 score at threshold 0.5 is 0.0\n"
          ],
          "name": "stdout"
        }
      ]
    },
    {
      "cell_type": "markdown",
      "metadata": {
        "id": "5sr-CyBChqzu"
      },
      "source": [
        "Now let us get the test set predictions as well and save them"
      ]
    },
    {
      "cell_type": "code",
      "metadata": {
        "colab": {
          "base_uri": "https://localhost:8080/"
        },
        "id": "UHPTyxeZhqzv",
        "outputId": "30521d06-7111-42c3-f507-e11e351773b1"
      },
      "source": [
        "pred_noemb_test_y = model.predict([test_X], batch_size=1024, verbose=1)"
      ],
      "execution_count": null,
      "outputs": [
        {
          "output_type": "stream",
          "text": [
            "367/367 [==============================] - 15s 40ms/step\n"
          ],
          "name": "stdout"
        }
      ]
    },
    {
      "cell_type": "markdown",
      "metadata": {
        "id": "XBuImBUXhqzv"
      },
      "source": [
        "Now that our model building is done, it might be a good idea to clean up some memory before we go to the next step."
      ]
    },
    {
      "cell_type": "code",
      "metadata": {
        "id": "PDIqV-1phqzw"
      },
      "source": [
        "del model, inp, x\n",
        "import gc; gc.collect()\n",
        "time.sleep(10)"
      ],
      "execution_count": null,
      "outputs": []
    },
    {
      "cell_type": "markdown",
      "metadata": {
        "id": "cN7_KSVkhqzw"
      },
      "source": [
        "So we got some baseline GRU model without pre-trained embeddings. Now let us use the provided embeddings and rebuild the model again to see the performance."
      ]
    },
    {
      "cell_type": "markdown",
      "metadata": {
        "id": "axcjy8LHhqzw"
      },
      "source": [
        "We have four different types of embeddings.\n",
        "\n",
        "GoogleNews-vectors-negative300 - https://code.google.com/archive/p/word2vec/\n",
        "glove.840B.300d - https://nlp.stanford.edu/projects/glove/\n",
        "paragram_300_sl999 - https://cogcomp.org/page/resource_view/106\n",
        "wiki-news-300d-1M - https://fasttext.cc/docs/en/english-vectors.html\n",
        "\n",
        "A very good explanation for different types of embeddings are given in this kernel. Please refer the same for more details..\n",
        "\n",
        "Glove Embeddings:\n",
        "\n",
        "In this section, let us use the Glove embeddings and rebuild the GRU model."
      ]
    },
    {
      "cell_type": "code",
      "metadata": {
        "colab": {
          "base_uri": "https://localhost:8080/"
        },
        "id": "3tG5WIuwBquX",
        "outputId": "f4394049-9395-419b-b1f1-f933b1052ff2"
      },
      "source": [
        "!unzip drive/My\\ Drive/embeddings.zip"
      ],
      "execution_count": 6,
      "outputs": [
        {
          "output_type": "stream",
          "text": [
            "Archive:  drive/My Drive/embeddings.zip\n",
            "   creating: GoogleNews-vectors-negative300/\n",
            "   creating: glove.840B.300d/\n",
            "   creating: paragram_300_sl999/\n",
            "   creating: wiki-news-300d-1M/\n",
            "  inflating: glove.840B.300d/glove.840B.300d.txt  \n",
            "  inflating: GoogleNews-vectors-negative300/GoogleNews-vectors-negative300.bin  \n",
            "  inflating: wiki-news-300d-1M/wiki-news-300d-1M.vec  \n",
            "  inflating: paragram_300_sl999/README.txt  \n",
            "  inflating: paragram_300_sl999/paragram_300_sl999.txt  \n"
          ],
          "name": "stdout"
        }
      ]
    },
    {
      "cell_type": "code",
      "metadata": {
        "id": "kdGLmcjuFFEg"
      },
      "source": [
        ""
      ],
      "execution_count": null,
      "outputs": []
    },
    {
      "cell_type": "code",
      "metadata": {
        "id": "O1gJDPQPhqzx",
        "colab": {
          "base_uri": "https://localhost:8080/"
        },
        "outputId": "2cb9e379-cd8c-4f65-af4e-7e1172de1331"
      },
      "source": [
        "EMBEDDING_FILE = '/content/glove.840B.300d/glove.840B.300d.txt'\n",
        "def get_coefs(word,*arr): return word, np.asarray(arr, dtype='float32')\n",
        "embeddings_index = dict(get_coefs(*o.split(\" \")) for o in open(EMBEDDING_FILE, encoding=\"utf8\"))\n",
        "\n",
        "all_embs = np.stack(embeddings_index.values())\n",
        "emb_mean,emb_std = all_embs.mean(), all_embs.std()\n",
        "embed_size = all_embs.shape[1]\n",
        "\n",
        "word_index = tokenizer.word_index\n",
        "nb_words = min(max_features, len(word_index))\n",
        "embedding_matrix = np.random.normal(emb_mean, emb_std, (nb_words, embed_size))\n",
        "for word, i in word_index.items():\n",
        "    if i >= max_features: continue\n",
        "    embedding_vector = embeddings_index.get(word)\n",
        "    if embedding_vector is not None: embedding_matrix[i] = embedding_vector\n",
        "        \n",
        "inp = Input(shape=(maxlen,))\n",
        "x = Embedding(max_features, embed_size, weights=[embedding_matrix])(inp)\n",
        "x = Bidirectional(CuDNNGRU(64, return_sequences=True))(x)\n",
        "x = GlobalMaxPool1D()(x)\n",
        "x = Dense(16, activation=\"relu\")(x)\n",
        "x = Dropout(0.1)(x)\n",
        "x = Dense(1, activation=\"sigmoid\")(x)\n",
        "model = Model(inputs=inp, outputs=x)\n",
        "model.compile(loss='binary_crossentropy', optimizer='adam', metrics=['accuracy'])\n",
        "print(model.summary())"
      ],
      "execution_count": 13,
      "outputs": [
        {
          "output_type": "stream",
          "text": [
            "/usr/local/lib/python3.7/dist-packages/IPython/core/interactiveshell.py:2822: FutureWarning: arrays to stack must be passed as a \"sequence\" type such as list or tuple. Support for non-sequence iterables such as generators is deprecated as of NumPy 1.16 and will raise an error in the future.\n",
            "  if self.run_code(code, result):\n"
          ],
          "name": "stderr"
        },
        {
          "output_type": "stream",
          "text": [
            "Model: \"model_1\"\n",
            "_________________________________________________________________\n",
            "Layer (type)                 Output Shape              Param #   \n",
            "=================================================================\n",
            "input_2 (InputLayer)         [(None, 100)]             0         \n",
            "_________________________________________________________________\n",
            "embedding_1 (Embedding)      (None, 100, 300)          15000000  \n",
            "_________________________________________________________________\n",
            "bidirectional_1 (Bidirection (None, 100, 128)          140544    \n",
            "_________________________________________________________________\n",
            "global_max_pooling1d_1 (Glob (None, 128)               0         \n",
            "_________________________________________________________________\n",
            "dense_2 (Dense)              (None, 16)                2064      \n",
            "_________________________________________________________________\n",
            "dropout_1 (Dropout)          (None, 16)                0         \n",
            "_________________________________________________________________\n",
            "dense_3 (Dense)              (None, 1)                 17        \n",
            "=================================================================\n",
            "Total params: 15,142,625\n",
            "Trainable params: 15,142,625\n",
            "Non-trainable params: 0\n",
            "_________________________________________________________________\n",
            "None\n"
          ],
          "name": "stdout"
        }
      ]
    },
    {
      "cell_type": "code",
      "metadata": {
        "id": "mqBmVxSBhqzx",
        "colab": {
          "base_uri": "https://localhost:8080/"
        },
        "outputId": "74a5135e-97e2-4a74-cf95-d5b68e129154"
      },
      "source": [
        "model.fit(train_X, train_y, batch_size=512, epochs=2, validation_data=(val_X, val_y))"
      ],
      "execution_count": 14,
      "outputs": [
        {
          "output_type": "stream",
          "text": [
            "Epoch 1/2\n",
            "2296/2296 [==============================] - 510s 208ms/step - loss: 0.1294 - accuracy: 0.9503 - val_loss: 0.1006 - val_accuracy: 0.9591\n",
            "Epoch 2/2\n",
            "2296/2296 [==============================] - 473s 206ms/step - loss: 0.0929 - accuracy: 0.9626 - val_loss: 0.1017 - val_accuracy: 0.9582\n"
          ],
          "name": "stdout"
        },
        {
          "output_type": "execute_result",
          "data": {
            "text/plain": [
              "<tensorflow.python.keras.callbacks.History at 0x7f45bbc9be90>"
            ]
          },
          "metadata": {
            "tags": []
          },
          "execution_count": 14
        }
      ]
    },
    {
      "cell_type": "code",
      "metadata": {
        "id": "W-Mz_23Ohqzx",
        "colab": {
          "base_uri": "https://localhost:8080/"
        },
        "outputId": "c0f7e7b3-d1a0-4210-94d6-822392e0fd08"
      },
      "source": [
        "pred_glove_val_y = model.predict([val_X], batch_size=1024, verbose=1)\n",
        "for thresh in np.arange(0.1, 0.501, 0.01):\n",
        "    thresh = np.round(thresh, 2)\n",
        "    print(\"F1 score at threshold {0} is {1}\".format(thresh, metrics.f1_score(val_y, (pred_glove_val_y>thresh).astype(int))))"
      ],
      "execution_count": 15,
      "outputs": [
        {
          "output_type": "stream",
          "text": [
            "128/128 [==============================] - 6s 42ms/step\n",
            "F1 score at threshold 0.1 is 0.5734113060428849\n",
            "F1 score at threshold 0.11 is 0.5828580544809158\n",
            "F1 score at threshold 0.12 is 0.591649031417874\n",
            "F1 score at threshold 0.13 is 0.5986833933672836\n",
            "F1 score at threshold 0.14 is 0.6046923044522134\n",
            "F1 score at threshold 0.15 is 0.6108922760746703\n",
            "F1 score at threshold 0.16 is 0.6168752172401808\n",
            "F1 score at threshold 0.17 is 0.6231488011283497\n",
            "F1 score at threshold 0.18 is 0.6286938666190519\n",
            "F1 score at threshold 0.19 is 0.6328358208955225\n",
            "F1 score at threshold 0.2 is 0.6361972733095436\n",
            "F1 score at threshold 0.21 is 0.6401518659135105\n",
            "F1 score at threshold 0.22 is 0.6440376422117141\n",
            "F1 score at threshold 0.23 is 0.6465639474430476\n",
            "F1 score at threshold 0.24 is 0.6501672240802676\n",
            "F1 score at threshold 0.25 is 0.6521969806588531\n",
            "F1 score at threshold 0.26 is 0.6550163072579469\n",
            "F1 score at threshold 0.27 is 0.6581108324728328\n",
            "F1 score at threshold 0.28 is 0.6601527626227556\n",
            "F1 score at threshold 0.29 is 0.6620296236989591\n",
            "F1 score at threshold 0.3 is 0.6651508261330907\n",
            "F1 score at threshold 0.31 is 0.667142202068579\n",
            "F1 score at threshold 0.32 is 0.668411867364747\n",
            "F1 score at threshold 0.33 is 0.6707386510688959\n",
            "F1 score at threshold 0.34 is 0.6725552709977525\n",
            "F1 score at threshold 0.35 is 0.6733800811936521\n",
            "F1 score at threshold 0.36 is 0.6749574829931972\n",
            "F1 score at threshold 0.37 is 0.6757306498233594\n",
            "F1 score at threshold 0.38 is 0.67601834367413\n",
            "F1 score at threshold 0.39 is 0.6771910724006531\n",
            "F1 score at threshold 0.4 is 0.6790672153635117\n",
            "F1 score at threshold 0.41 is 0.67902395839097\n",
            "F1 score at threshold 0.42 is 0.6802387193931619\n",
            "F1 score at threshold 0.43 is 0.6812865497076023\n",
            "F1 score at threshold 0.44 is 0.6815402038505096\n",
            "F1 score at threshold 0.45 is 0.6808243420677056\n",
            "F1 score at threshold 0.46 is 0.6805715602673428\n",
            "F1 score at threshold 0.47 is 0.68059181897302\n",
            "F1 score at threshold 0.48 is 0.6794594278359563\n",
            "F1 score at threshold 0.49 is 0.676408201744049\n",
            "F1 score at threshold 0.5 is 0.6758456973293769\n"
          ],
          "name": "stdout"
        }
      ]
    },
    {
      "cell_type": "code",
      "metadata": {
        "id": "FHwBycYqhqzy",
        "colab": {
          "base_uri": "https://localhost:8080/"
        },
        "outputId": "1954ba91-1a6e-41c3-d7b9-02320800360b"
      },
      "source": [
        "pred_glove_test_y = model.predict([test_X], batch_size=1024, verbose=1)"
      ],
      "execution_count": 16,
      "outputs": [
        {
          "output_type": "stream",
          "text": [
            "367/367 [==============================] - 16s 42ms/step\n"
          ],
          "name": "stdout"
        }
      ]
    },
    {
      "cell_type": "code",
      "metadata": {
        "id": "C9XWk08uhqzy"
      },
      "source": [
        "del word_index, embeddings_index, all_embs, embedding_matrix, model, inp, x\n",
        "import gc; gc.collect()\n",
        "time.sleep(10)"
      ],
      "execution_count": 17,
      "outputs": []
    },
    {
      "cell_type": "markdown",
      "metadata": {
        "id": "0dZkPjH0hqzy"
      },
      "source": [
        "Wiki News FastText Embeddings:\n",
        "\n",
        "Now let us use the FastText embeddings trained on Wiki News corpus in place of Glove embeddings and rebuild the model."
      ]
    },
    {
      "cell_type": "code",
      "metadata": {
        "id": "uNKWDHwshqzy",
        "colab": {
          "base_uri": "https://localhost:8080/"
        },
        "outputId": "3af44823-d791-4ed4-cd94-01cf7fdf37c8"
      },
      "source": [
        "EMBEDDING_FILE = '/content/wiki-news-300d-1M/wiki-news-300d-1M.vec'\n",
        "def get_coefs(word,*arr): return word, np.asarray(arr, dtype='float32')\n",
        "embeddings_index = dict(get_coefs(*o.split(\" \")) for o in open(EMBEDDING_FILE, encoding=\"utf8\") if len(o)>100)\n",
        "\n",
        "all_embs = np.stack(embeddings_index.values())\n",
        "emb_mean,emb_std = all_embs.mean(), all_embs.std()\n",
        "embed_size = all_embs.shape[1]\n",
        "\n",
        "word_index = tokenizer.word_index\n",
        "nb_words = min(max_features, len(word_index))\n",
        "embedding_matrix = np.random.normal(emb_mean, emb_std, (nb_words, embed_size))\n",
        "for word, i in word_index.items():\n",
        "    if i >= max_features: continue\n",
        "    embedding_vector = embeddings_index.get(word)\n",
        "    if embedding_vector is not None: embedding_matrix[i] = embedding_vector\n",
        "        \n",
        "inp = Input(shape=(maxlen,))\n",
        "x = Embedding(max_features, embed_size, weights=[embedding_matrix])(inp)\n",
        "x = Bidirectional(CuDNNGRU(64, return_sequences=True))(x)\n",
        "x = GlobalMaxPool1D()(x)\n",
        "x = Dense(16, activation=\"relu\")(x)\n",
        "x = Dropout(0.1)(x)\n",
        "x = Dense(1, activation=\"sigmoid\")(x)\n",
        "model = Model(inputs=inp, outputs=x)\n",
        "model.compile(loss='binary_crossentropy', optimizer='adam', metrics=['accuracy'])"
      ],
      "execution_count": 18,
      "outputs": [
        {
          "output_type": "stream",
          "text": [
            "/usr/local/lib/python3.7/dist-packages/IPython/core/interactiveshell.py:2822: FutureWarning: arrays to stack must be passed as a \"sequence\" type such as list or tuple. Support for non-sequence iterables such as generators is deprecated as of NumPy 1.16 and will raise an error in the future.\n",
            "  if self.run_code(code, result):\n"
          ],
          "name": "stderr"
        }
      ]
    },
    {
      "cell_type": "code",
      "metadata": {
        "id": "elfEOsB0hqzy",
        "colab": {
          "base_uri": "https://localhost:8080/"
        },
        "outputId": "30644228-dd99-4559-eb29-2c96a9139d3a"
      },
      "source": [
        "model.fit(train_X, train_y, batch_size=512, epochs=2, validation_data=(val_X, val_y))"
      ],
      "execution_count": 19,
      "outputs": [
        {
          "output_type": "stream",
          "text": [
            "Epoch 1/2\n",
            "2296/2296 [==============================] - 466s 203ms/step - loss: 0.1392 - accuracy: 0.9514 - val_loss: 0.1042 - val_accuracy: 0.9585\n",
            "Epoch 2/2\n",
            "2296/2296 [==============================] - 469s 204ms/step - loss: 0.0926 - accuracy: 0.9632 - val_loss: 0.1035 - val_accuracy: 0.9587\n"
          ],
          "name": "stdout"
        },
        {
          "output_type": "execute_result",
          "data": {
            "text/plain": [
              "<tensorflow.python.keras.callbacks.History at 0x7f45bea58d50>"
            ]
          },
          "metadata": {
            "tags": []
          },
          "execution_count": 19
        }
      ]
    },
    {
      "cell_type": "code",
      "metadata": {
        "id": "KkJ_vHqZhqzz",
        "colab": {
          "base_uri": "https://localhost:8080/"
        },
        "outputId": "829bf235-bf48-4fda-d715-4f3b127282e5"
      },
      "source": [
        "pred_fasttext_val_y = model.predict([val_X], batch_size=1024, verbose=1)\n",
        "for thresh in np.arange(0.1, 0.501, 0.01):\n",
        "    thresh = np.round(thresh, 2)\n",
        "    print(\"F1 score at threshold {0} is {1}\".format(thresh, metrics.f1_score(val_y, (pred_fasttext_val_y>thresh).astype(int))))"
      ],
      "execution_count": 20,
      "outputs": [
        {
          "output_type": "stream",
          "text": [
            "128/128 [==============================] - 6s 43ms/step\n",
            "F1 score at threshold 0.1 is 0.5978356983451935\n",
            "F1 score at threshold 0.11 is 0.6062325381474318\n",
            "F1 score at threshold 0.12 is 0.6133765494284087\n",
            "F1 score at threshold 0.13 is 0.6208678606433218\n",
            "F1 score at threshold 0.14 is 0.6255035987506223\n",
            "F1 score at threshold 0.15 is 0.6294206687766616\n",
            "F1 score at threshold 0.16 is 0.6336928226106359\n",
            "F1 score at threshold 0.17 is 0.6379992464204974\n",
            "F1 score at threshold 0.18 is 0.6428605482717521\n",
            "F1 score at threshold 0.19 is 0.6458805926926975\n",
            "F1 score at threshold 0.2 is 0.6480839638760069\n",
            "F1 score at threshold 0.21 is 0.6514381567911589\n",
            "F1 score at threshold 0.22 is 0.6537158796573022\n",
            "F1 score at threshold 0.23 is 0.6555678503168695\n",
            "F1 score at threshold 0.24 is 0.6571834992887624\n",
            "F1 score at threshold 0.25 is 0.6598318638507279\n",
            "F1 score at threshold 0.26 is 0.6621188630490956\n",
            "F1 score at threshold 0.27 is 0.6640237859266601\n",
            "F1 score at threshold 0.28 is 0.6659301346801347\n",
            "F1 score at threshold 0.29 is 0.6682942362806495\n",
            "F1 score at threshold 0.3 is 0.6692019282271023\n",
            "F1 score at threshold 0.31 is 0.6706593288011222\n",
            "F1 score at threshold 0.32 is 0.6712731229597388\n",
            "F1 score at threshold 0.33 is 0.6714223002633889\n",
            "F1 score at threshold 0.34 is 0.6725243147656941\n",
            "F1 score at threshold 0.35 is 0.6720909496210432\n",
            "F1 score at threshold 0.36 is 0.6723838349868281\n",
            "F1 score at threshold 0.37 is 0.6734497767226273\n",
            "F1 score at threshold 0.38 is 0.6733215446922595\n",
            "F1 score at threshold 0.39 is 0.6732183908045977\n",
            "F1 score at threshold 0.4 is 0.6728083898255983\n",
            "F1 score at threshold 0.41 is 0.6721186985221099\n",
            "F1 score at threshold 0.42 is 0.6723539448137907\n",
            "F1 score at threshold 0.43 is 0.6716072804885279\n",
            "F1 score at threshold 0.44 is 0.6712418690696426\n",
            "F1 score at threshold 0.45 is 0.6701923076923078\n",
            "F1 score at threshold 0.46 is 0.669453532048952\n",
            "F1 score at threshold 0.47 is 0.6674803197656679\n",
            "F1 score at threshold 0.48 is 0.6654368812642194\n",
            "F1 score at threshold 0.49 is 0.6640615308274408\n",
            "F1 score at threshold 0.5 is 0.6626234838064274\n"
          ],
          "name": "stdout"
        }
      ]
    },
    {
      "cell_type": "code",
      "metadata": {
        "id": "9xRjmCgHhqzz",
        "colab": {
          "base_uri": "https://localhost:8080/"
        },
        "outputId": "35fcdf4e-bead-4d7b-8eea-84e5228af152"
      },
      "source": [
        "pred_fasttext_test_y = model.predict([test_X], batch_size=1024, verbose=1)"
      ],
      "execution_count": 21,
      "outputs": [
        {
          "output_type": "stream",
          "text": [
            "367/367 [==============================] - 16s 44ms/step\n"
          ],
          "name": "stdout"
        }
      ]
    },
    {
      "cell_type": "code",
      "metadata": {
        "id": "eskCv7dJhqzz"
      },
      "source": [
        "del word_index, embeddings_index, all_embs, embedding_matrix, model, inp, x\n",
        "import gc; gc.collect()\n",
        "time.sleep(10)"
      ],
      "execution_count": 22,
      "outputs": []
    },
    {
      "cell_type": "markdown",
      "metadata": {
        "id": "sYqolWCmhqzz"
      },
      "source": [
        "Paragram Embeddings:\n",
        "\n",
        "In this section, we can use the paragram embeddings and build the model and make predictions."
      ]
    },
    {
      "cell_type": "code",
      "metadata": {
        "id": "uDftdp8Ehqzz",
        "colab": {
          "base_uri": "https://localhost:8080/"
        },
        "outputId": "fff35e65-09d5-4a45-8d81-6ec751642174"
      },
      "source": [
        "EMBEDDING_FILE = '/content/paragram_300_sl999/paragram_300_sl999.txt'\n",
        "def get_coefs(word,*arr): return word, np.asarray(arr, dtype='float32')\n",
        "embeddings_index = dict(get_coefs(*o.split(\" \")) for o in open(EMBEDDING_FILE, encoding=\"utf8\", errors='ignore') if len(o)>100)\n",
        "\n",
        "all_embs = np.stack(embeddings_index.values())\n",
        "emb_mean,emb_std = all_embs.mean(), all_embs.std()\n",
        "embed_size = all_embs.shape[1]\n",
        "\n",
        "word_index = tokenizer.word_index\n",
        "nb_words = min(max_features, len(word_index))\n",
        "embedding_matrix = np.random.normal(emb_mean, emb_std, (nb_words, embed_size))\n",
        "for word, i in word_index.items():\n",
        "    if i >= max_features: continue\n",
        "    embedding_vector = embeddings_index.get(word)\n",
        "    if embedding_vector is not None: embedding_matrix[i] = embedding_vector\n",
        "        \n",
        "inp = Input(shape=(maxlen,))\n",
        "x = Embedding(max_features, embed_size, weights=[embedding_matrix])(inp)\n",
        "x = Bidirectional(CuDNNGRU(64, return_sequences=True))(x)\n",
        "x = GlobalMaxPool1D()(x)\n",
        "x = Dense(16, activation=\"relu\")(x)\n",
        "x = Dropout(0.1)(x)\n",
        "x = Dense(1, activation=\"sigmoid\")(x)\n",
        "model = Model(inputs=inp, outputs=x)\n",
        "model.compile(loss='binary_crossentropy', optimizer='adam', metrics=['accuracy'])"
      ],
      "execution_count": 23,
      "outputs": [
        {
          "output_type": "stream",
          "text": [
            "/usr/local/lib/python3.7/dist-packages/IPython/core/interactiveshell.py:2822: FutureWarning: arrays to stack must be passed as a \"sequence\" type such as list or tuple. Support for non-sequence iterables such as generators is deprecated as of NumPy 1.16 and will raise an error in the future.\n",
            "  if self.run_code(code, result):\n"
          ],
          "name": "stderr"
        }
      ]
    },
    {
      "cell_type": "code",
      "metadata": {
        "id": "5CXH7pwphqz0",
        "colab": {
          "base_uri": "https://localhost:8080/"
        },
        "outputId": "6ee37864-b25e-456d-efef-e65c6fac4c14"
      },
      "source": [
        "model.fit(train_X, train_y, batch_size=512, epochs=2, validation_data=(val_X, val_y))"
      ],
      "execution_count": 24,
      "outputs": [
        {
          "output_type": "stream",
          "text": [
            "Epoch 1/2\n",
            "2296/2296 [==============================] - 468s 203ms/step - loss: 0.1567 - accuracy: 0.9418 - val_loss: 0.1029 - val_accuracy: 0.9588\n",
            "Epoch 2/2\n",
            "2296/2296 [==============================] - 461s 201ms/step - loss: 0.0975 - accuracy: 0.9623 - val_loss: 0.1013 - val_accuracy: 0.9598\n"
          ],
          "name": "stdout"
        },
        {
          "output_type": "execute_result",
          "data": {
            "text/plain": [
              "<tensorflow.python.keras.callbacks.History at 0x7f459cb9bc90>"
            ]
          },
          "metadata": {
            "tags": []
          },
          "execution_count": 24
        }
      ]
    },
    {
      "cell_type": "code",
      "metadata": {
        "id": "vXBLlHzYhqz0",
        "colab": {
          "base_uri": "https://localhost:8080/"
        },
        "outputId": "5dfe3dcc-39a5-4c7f-fd9c-f8405ea61dd6"
      },
      "source": [
        "pred_paragram_val_y = model.predict([val_X], batch_size=1024, verbose=1)\n",
        "for thresh in np.arange(0.1, 0.501, 0.01):\n",
        "    thresh = np.round(thresh, 2)\n",
        "    print(\"F1 score at threshold {0} is {1}\".format(thresh, metrics.f1_score(val_y, (pred_paragram_val_y>thresh).astype(int))))"
      ],
      "execution_count": 25,
      "outputs": [
        {
          "output_type": "stream",
          "text": [
            "128/128 [==============================] - 6s 48ms/step\n",
            "F1 score at threshold 0.1 is 0.6025027294868565\n",
            "F1 score at threshold 0.11 is 0.6107342206955774\n",
            "F1 score at threshold 0.12 is 0.6178605790256275\n",
            "F1 score at threshold 0.13 is 0.6238654564869194\n",
            "F1 score at threshold 0.14 is 0.6290001807991321\n",
            "F1 score at threshold 0.15 is 0.6334862385321101\n",
            "F1 score at threshold 0.16 is 0.6389121728602031\n",
            "F1 score at threshold 0.17 is 0.6425638363147212\n",
            "F1 score at threshold 0.18 is 0.6466739888257486\n",
            "F1 score at threshold 0.19 is 0.6505685942414711\n",
            "F1 score at threshold 0.2 is 0.6539384148430999\n",
            "F1 score at threshold 0.21 is 0.6562778272484416\n",
            "F1 score at threshold 0.22 is 0.6583745441830261\n",
            "F1 score at threshold 0.23 is 0.661120354963949\n",
            "F1 score at threshold 0.24 is 0.663270504330107\n",
            "F1 score at threshold 0.25 is 0.6644723307961325\n",
            "F1 score at threshold 0.26 is 0.6663895672052788\n",
            "F1 score at threshold 0.27 is 0.667190693287219\n",
            "F1 score at threshold 0.28 is 0.6673723207197672\n",
            "F1 score at threshold 0.29 is 0.6694100042753313\n",
            "F1 score at threshold 0.3 is 0.6700830726076169\n",
            "F1 score at threshold 0.31 is 0.670802045924475\n",
            "F1 score at threshold 0.32 is 0.6717548868877663\n",
            "F1 score at threshold 0.33 is 0.6724309943465249\n",
            "F1 score at threshold 0.34 is 0.6735618046626042\n",
            "F1 score at threshold 0.35 is 0.6742927983770991\n",
            "F1 score at threshold 0.36 is 0.6751237271744694\n",
            "F1 score at threshold 0.37 is 0.6740553577581256\n",
            "F1 score at threshold 0.38 is 0.6742771049429217\n",
            "F1 score at threshold 0.39 is 0.6752912251946379\n",
            "F1 score at threshold 0.4 is 0.6749837403180985\n",
            "F1 score at threshold 0.41 is 0.6746685775707632\n",
            "F1 score at threshold 0.42 is 0.6723804925156929\n",
            "F1 score at threshold 0.43 is 0.6715426342414824\n",
            "F1 score at threshold 0.44 is 0.6703986220472441\n",
            "F1 score at threshold 0.45 is 0.668530947054437\n",
            "F1 score at threshold 0.46 is 0.6666666666666666\n",
            "F1 score at threshold 0.47 is 0.6657803102247546\n",
            "F1 score at threshold 0.48 is 0.6631673281270003\n",
            "F1 score at threshold 0.49 is 0.6598577892695541\n",
            "F1 score at threshold 0.5 is 0.656808218281751\n"
          ],
          "name": "stdout"
        }
      ]
    },
    {
      "cell_type": "code",
      "metadata": {
        "id": "fNY1hfZ6hqz0",
        "colab": {
          "base_uri": "https://localhost:8080/"
        },
        "outputId": "ccdb472a-6852-44c9-de0c-dc3751fb7642"
      },
      "source": [
        "pred_paragram_test_y = model.predict([test_X], batch_size=1024, verbose=1)"
      ],
      "execution_count": 26,
      "outputs": [
        {
          "output_type": "stream",
          "text": [
            "367/367 [==============================] - 17s 47ms/step\n"
          ],
          "name": "stdout"
        }
      ]
    },
    {
      "cell_type": "code",
      "metadata": {
        "id": "l3cK0gMuhqz0"
      },
      "source": [
        "del word_index, embeddings_index, all_embs, embedding_matrix, model, inp, x\n",
        "import gc; gc.collect()\n",
        "time.sleep(10)"
      ],
      "execution_count": 27,
      "outputs": []
    },
    {
      "cell_type": "markdown",
      "metadata": {
        "id": "1JXdGG0Shqz0"
      },
      "source": [
        "Observations:\n",
        "\n",
        "Overall pretrained embeddings seem to give better results comapred to non-pretrained model.\n",
        "The performance of the different pretrained embeddings are almost similar.\n",
        "Final Blend:\n",
        "\n",
        "Though the results of the models with different pre-trained embeddings are similar, there is a good chance that they might capture different type of information from the data. So let us do a blend of these three models by averaging their predictions."
      ]
    },
    {
      "cell_type": "code",
      "metadata": {
        "id": "08pUt3szhqz1",
        "colab": {
          "base_uri": "https://localhost:8080/"
        },
        "outputId": "fe888c64-4290-43cb-e84f-65a3391ccc84"
      },
      "source": [
        "pred_val_y = 0.33*pred_glove_val_y + 0.33*pred_fasttext_val_y + 0.34*pred_paragram_val_y \n",
        "for thresh in np.arange(0.1, 0.501, 0.01):\n",
        "    thresh = np.round(thresh, 2)\n",
        "    print(\"F1 score at threshold {0} is {1}\".format(thresh, metrics.f1_score(val_y, (pred_val_y>thresh).astype(int))))"
      ],
      "execution_count": 29,
      "outputs": [
        {
          "output_type": "stream",
          "text": [
            "F1 score at threshold 0.1 is 0.590784155214228\n",
            "F1 score at threshold 0.11 is 0.6008104531921932\n",
            "F1 score at threshold 0.12 is 0.6088534413638858\n",
            "F1 score at threshold 0.13 is 0.6159728487348025\n",
            "F1 score at threshold 0.14 is 0.6229221347331583\n",
            "F1 score at threshold 0.15 is 0.6286857905270179\n",
            "F1 score at threshold 0.16 is 0.6345425013535463\n",
            "F1 score at threshold 0.17 is 0.6393517670756271\n",
            "F1 score at threshold 0.18 is 0.6441211896599649\n",
            "F1 score at threshold 0.19 is 0.6487095260441108\n",
            "F1 score at threshold 0.2 is 0.6526075805072671\n",
            "F1 score at threshold 0.21 is 0.6565472187530023\n",
            "F1 score at threshold 0.22 is 0.6591317002182877\n",
            "F1 score at threshold 0.23 is 0.661601803744731\n",
            "F1 score at threshold 0.24 is 0.6648809523809524\n",
            "F1 score at threshold 0.25 is 0.66790278125783\n",
            "F1 score at threshold 0.26 is 0.6707583058584835\n",
            "F1 score at threshold 0.27 is 0.672371387579422\n",
            "F1 score at threshold 0.28 is 0.6749354005167959\n",
            "F1 score at threshold 0.29 is 0.6762785352348116\n",
            "F1 score at threshold 0.3 is 0.6774465395554619\n",
            "F1 score at threshold 0.31 is 0.6788200903534414\n",
            "F1 score at threshold 0.32 is 0.6795387503352106\n",
            "F1 score at threshold 0.33 is 0.6802294124012553\n",
            "F1 score at threshold 0.34 is 0.6818627985603665\n",
            "F1 score at threshold 0.35 is 0.6831334580261855\n",
            "F1 score at threshold 0.36 is 0.6830458654539405\n",
            "F1 score at threshold 0.37 is 0.6843252305113161\n",
            "F1 score at threshold 0.38 is 0.6852248394004283\n",
            "F1 score at threshold 0.39 is 0.6857987156901745\n",
            "F1 score at threshold 0.4 is 0.6855046712901932\n",
            "F1 score at threshold 0.41 is 0.6848316556751128\n",
            "F1 score at threshold 0.42 is 0.6839680410567446\n",
            "F1 score at threshold 0.43 is 0.6825564971751412\n",
            "F1 score at threshold 0.44 is 0.6812351543942994\n",
            "F1 score at threshold 0.45 is 0.67994958890956\n",
            "F1 score at threshold 0.46 is 0.6788334444916027\n",
            "F1 score at threshold 0.47 is 0.6774825517325823\n",
            "F1 score at threshold 0.48 is 0.6767065794346377\n",
            "F1 score at threshold 0.49 is 0.676329704510109\n",
            "F1 score at threshold 0.5 is 0.673951268525496\n"
          ],
          "name": "stdout"
        }
      ]
    },
    {
      "cell_type": "markdown",
      "metadata": {
        "id": "ae1lRKOchqz1"
      },
      "source": [
        "The result seems to better than individual pre-trained models and so we let us create a submission file using this model blend."
      ]
    },
    {
      "cell_type": "code",
      "metadata": {
        "id": "lPBVQcichqz1"
      },
      "source": [
        "pred_test_y = 0.33*pred_glove_test_y + 0.33*pred_fasttext_test_y + 0.34*pred_paragram_test_y\n",
        "pred_test_y = (pred_test_y>0.35).astype(int)\n",
        "out_df = pd.DataFrame({\"qid\":test_df[\"qid\"].values})\n",
        "out_df['prediction'] = pred_test_y\n",
        "out_df.to_csv(\"submission.csv\", index=False)"
      ],
      "execution_count": 30,
      "outputs": []
    },
    {
      "cell_type": "code",
      "metadata": {
        "id": "fMSwkQdEhqz1"
      },
      "source": [
        ""
      ],
      "execution_count": null,
      "outputs": []
    },
    {
      "cell_type": "code",
      "metadata": {
        "id": "A8P5023ihqz1"
      },
      "source": [
        ""
      ],
      "execution_count": null,
      "outputs": []
    },
    {
      "cell_type": "code",
      "metadata": {
        "id": "MAPzn_c-hqz2"
      },
      "source": [
        ""
      ],
      "execution_count": null,
      "outputs": []
    }
  ]
}